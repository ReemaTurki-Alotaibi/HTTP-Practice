{
  "nbformat": 4,
  "nbformat_minor": 0,
  "metadata": {
    "colab": {
      "provenance": []
    },
    "kernelspec": {
      "name": "python3",
      "display_name": "Python 3"
    },
    "language_info": {
      "name": "python"
    }
  },
  "cells": [
    {
      "cell_type": "markdown",
      "source": [
        "**1. Install Required Libraries**"
      ],
      "metadata": {
        "id": "9tmcOob3srvf"
      }
    },
    {
      "cell_type": "code",
      "execution_count": 22,
      "metadata": {
        "colab": {
          "base_uri": "https://localhost:8080/"
        },
        "id": "YFv6gSXsn1Pj",
        "outputId": "ce09d091-bd7a-43fa-93cb-dbe3754f61ce"
      },
      "outputs": [
        {
          "output_type": "stream",
          "name": "stdout",
          "text": [
            "Requirement already satisfied: requests in /usr/local/lib/python3.11/dist-packages (2.32.3)\n",
            "Requirement already satisfied: charset-normalizer<4,>=2 in /usr/local/lib/python3.11/dist-packages (from requests) (3.4.1)\n",
            "Requirement already satisfied: idna<4,>=2.5 in /usr/local/lib/python3.11/dist-packages (from requests) (3.10)\n",
            "Requirement already satisfied: urllib3<3,>=1.21.1 in /usr/local/lib/python3.11/dist-packages (from requests) (2.3.0)\n",
            "Requirement already satisfied: certifi>=2017.4.17 in /usr/local/lib/python3.11/dist-packages (from requests) (2025.1.31)\n"
          ]
        }
      ],
      "source": [
        "!pip install requests"
      ]
    },
    {
      "cell_type": "markdown",
      "source": [
        "**2. Define HTTP Functions**"
      ],
      "metadata": {
        "id": "_ooFOrmAtLu_"
      }
    },
    {
      "cell_type": "code",
      "source": [
        "import requests\n",
        "\n",
        "#Perform a Simple GET Request\n",
        "def perform_get_request():\n",
        "    url = \"https://jsonplaceholder.typicode.com/posts/1\"\n",
        "    response = requests.get(url)\n",
        "    return response\n",
        "\n",
        "#Perform a GET Request with Parameters\n",
        "def perform_get_with_params():\n",
        "    url = \"https://jsonplaceholder.typicode.com/posts\"\n",
        "    params = {\"userId\": 1}\n",
        "    response = requests.get(url, params=params)\n",
        "    return response\n",
        "\n",
        "#Perform a POST Request\n",
        "def perform_post_request():\n",
        "    url = \"https://jsonplaceholder.typicode.com/posts\"\n",
        "    data = {\n",
        "        \"title\": \"Test Post\",\n",
        "        \"body\": \"This is a test post\",\n",
        "        \"userId\": 1\n",
        "    }\n",
        "    response = requests.post(url, json=data)\n",
        "    return response\n",
        "\n",
        "#Perform a PUT Request\n",
        "def perform_put_request():\n",
        "    url = \"https://jsonplaceholder.typicode.com/posts/1\"\n",
        "    data = {\n",
        "        \"title\": \"Updated Title\",\n",
        "        \"body\": \"Updated Content\",\n",
        "        \"userId\": 1\n",
        "    }\n",
        "    response = requests.put(url, json=data)\n",
        "    return response\n",
        "\n",
        "# Perform a PATCH Request\n",
        "def perform_patch_request():\n",
        "    url = \"https://jsonplaceholder.typicode.com/posts/1\"\n",
        "    data = {\n",
        "        \"title\": \"Partially Updated Title\"\n",
        "    }\n",
        "    response = requests.patch(url, json=data)\n",
        "    return response\n",
        "\n",
        "#Perform a DELETE Request\n",
        "def perform_delete_request():\n",
        "    url = \"https://httpbin.org/delete\"\n",
        "    response = requests.delete(url)\n",
        "    return response\n",
        "\n",
        "# Inspect Headers During a Redirect Request\n",
        "def inspect_redirect_headers():\n",
        "    url = \"http://httpbin.org/redirect/1\"\n",
        "    response = requests.get(url, allow_redirects=False)\n",
        "    return response.headers.get(\"Location\")"
      ],
      "metadata": {
        "id": "4Yj9pZPZn_w5"
      },
      "execution_count": 23,
      "outputs": []
    },
    {
      "cell_type": "markdown",
      "source": [
        "**3. Define Tests**"
      ],
      "metadata": {
        "id": "h1PxpPKttdJT"
      }
    },
    {
      "cell_type": "code",
      "source": [
        "def test_1_perform_get_request():\n",
        "    response = perform_get_request()\n",
        "    print(\"Test 1 - GET Request:\", response.json())\n",
        "    assert response.status_code == 200\n",
        "    assert response.request.method == 'GET'\n",
        "    assert response.request.url == 'https://jsonplaceholder.typicode.com/posts/1'\n",
        "\n",
        "def test_2_perform_get_request_with_params():\n",
        "    response = perform_get_with_params()\n",
        "    print(\"Test 2 - GET Request with Params:\", response.json())\n",
        "    assert response.status_code == 200\n",
        "    assert response.request.method == 'GET'\n",
        "    assert \"userId=1\" in response.request.url\n",
        "\n",
        "def test_3_perform_post_request():\n",
        "    response = perform_post_request()\n",
        "    print(\"Test 3 - POST Request:\", response.json())\n",
        "    assert response.status_code == 201  # 201 Created\n",
        "    assert response.request.method == 'POST'\n",
        "    assert response.json()[\"title\"] == \"Test Post\"\n",
        "\n",
        "def test_4_perform_put_request():\n",
        "    response = perform_put_request()\n",
        "    print(\"Test 4 - PUT Request:\", response.json())\n",
        "    assert response.status_code == 200\n",
        "    assert response.request.method == 'PUT'\n",
        "    assert response.json()[\"title\"] == \"Updated Title\"\n",
        "\n",
        "def test_5_perform_patch_request():\n",
        "    response = perform_patch_request()\n",
        "    print(\"Test 5 - PATCH Request:\", response.json())\n",
        "    assert response.status_code == 200\n",
        "    assert response.request.method == 'PATCH'\n",
        "    assert response.json()[\"title\"] == \"Partially Updated Title\"\n",
        "\n",
        "def test_6_perform_delete_request():\n",
        "    response = perform_delete_request()\n",
        "    print(\"Test 6 - DELETE Request:\", response.status_code)\n",
        "    assert response.status_code == 200\n",
        "    assert response.request.method == 'DELETE'\n",
        "\n",
        "def test_7_perform_redirect_request():\n",
        "    location_header = inspect_redirect_headers()\n",
        "    print(\"Test 7 - Redirect Location:\", location_header)\n",
        "    assert location_header == '/get'"
      ],
      "metadata": {
        "id": "eLAABJvHoFyI"
      },
      "execution_count": 24,
      "outputs": []
    },
    {
      "cell_type": "markdown",
      "source": [
        "**4. Run All Tests**"
      ],
      "metadata": {
        "id": "OVqSeSDFvKD9"
      }
    },
    {
      "cell_type": "code",
      "source": [
        "test_1_perform_get_request()\n",
        "test_2_perform_get_request_with_params()\n",
        "test_3_perform_post_request()\n",
        "test_4_perform_put_request()\n",
        "test_5_perform_patch_request()\n",
        "test_6_perform_delete_request()\n",
        "test_7_perform_redirect_request()\n",
        "\n",
        "print(\"All tests passed!\")"
      ],
      "metadata": {
        "colab": {
          "base_uri": "https://localhost:8080/"
        },
        "id": "NCi-rsXrvRpd",
        "outputId": "c8876269-b9d6-4964-9210-b33002955b0c"
      },
      "execution_count": 25,
      "outputs": [
        {
          "output_type": "stream",
          "name": "stdout",
          "text": [
            "Test 1 - GET Request: {'userId': 1, 'id': 1, 'title': 'sunt aut facere repellat provident occaecati excepturi optio reprehenderit', 'body': 'quia et suscipit\\nsuscipit recusandae consequuntur expedita et cum\\nreprehenderit molestiae ut ut quas totam\\nnostrum rerum est autem sunt rem eveniet architecto'}\n",
            "Test 2 - GET Request with Params: [{'userId': 1, 'id': 1, 'title': 'sunt aut facere repellat provident occaecati excepturi optio reprehenderit', 'body': 'quia et suscipit\\nsuscipit recusandae consequuntur expedita et cum\\nreprehenderit molestiae ut ut quas totam\\nnostrum rerum est autem sunt rem eveniet architecto'}, {'userId': 1, 'id': 2, 'title': 'qui est esse', 'body': 'est rerum tempore vitae\\nsequi sint nihil reprehenderit dolor beatae ea dolores neque\\nfugiat blanditiis voluptate porro vel nihil molestiae ut reiciendis\\nqui aperiam non debitis possimus qui neque nisi nulla'}, {'userId': 1, 'id': 3, 'title': 'ea molestias quasi exercitationem repellat qui ipsa sit aut', 'body': 'et iusto sed quo iure\\nvoluptatem occaecati omnis eligendi aut ad\\nvoluptatem doloribus vel accusantium quis pariatur\\nmolestiae porro eius odio et labore et velit aut'}, {'userId': 1, 'id': 4, 'title': 'eum et est occaecati', 'body': 'ullam et saepe reiciendis voluptatem adipisci\\nsit amet autem assumenda provident rerum culpa\\nquis hic commodi nesciunt rem tenetur doloremque ipsam iure\\nquis sunt voluptatem rerum illo velit'}, {'userId': 1, 'id': 5, 'title': 'nesciunt quas odio', 'body': 'repudiandae veniam quaerat sunt sed\\nalias aut fugiat sit autem sed est\\nvoluptatem omnis possimus esse voluptatibus quis\\nest aut tenetur dolor neque'}, {'userId': 1, 'id': 6, 'title': 'dolorem eum magni eos aperiam quia', 'body': 'ut aspernatur corporis harum nihil quis provident sequi\\nmollitia nobis aliquid molestiae\\nperspiciatis et ea nemo ab reprehenderit accusantium quas\\nvoluptate dolores velit et doloremque molestiae'}, {'userId': 1, 'id': 7, 'title': 'magnam facilis autem', 'body': 'dolore placeat quibusdam ea quo vitae\\nmagni quis enim qui quis quo nemo aut saepe\\nquidem repellat excepturi ut quia\\nsunt ut sequi eos ea sed quas'}, {'userId': 1, 'id': 8, 'title': 'dolorem dolore est ipsam', 'body': 'dignissimos aperiam dolorem qui eum\\nfacilis quibusdam animi sint suscipit qui sint possimus cum\\nquaerat magni maiores excepturi\\nipsam ut commodi dolor voluptatum modi aut vitae'}, {'userId': 1, 'id': 9, 'title': 'nesciunt iure omnis dolorem tempora et accusantium', 'body': 'consectetur animi nesciunt iure dolore\\nenim quia ad\\nveniam autem ut quam aut nobis\\net est aut quod aut provident voluptas autem voluptas'}, {'userId': 1, 'id': 10, 'title': 'optio molestias id quia eum', 'body': 'quo et expedita modi cum officia vel magni\\ndoloribus qui repudiandae\\nvero nisi sit\\nquos veniam quod sed accusamus veritatis error'}]\n",
            "Test 3 - POST Request: {'title': 'Test Post', 'body': 'This is a test post', 'userId': 1, 'id': 101}\n",
            "Test 4 - PUT Request: {'title': 'Updated Title', 'body': 'Updated Content', 'userId': 1, 'id': 1}\n",
            "Test 5 - PATCH Request: {'userId': 1, 'id': 1, 'title': 'Partially Updated Title', 'body': 'quia et suscipit\\nsuscipit recusandae consequuntur expedita et cum\\nreprehenderit molestiae ut ut quas totam\\nnostrum rerum est autem sunt rem eveniet architecto'}\n",
            "Test 6 - DELETE Request: 200\n",
            "Test 7 - Redirect Location: /get\n",
            "All tests passed!\n"
          ]
        }
      ]
    }
  ]
}